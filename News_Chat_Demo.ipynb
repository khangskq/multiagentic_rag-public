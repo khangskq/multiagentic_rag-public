{
 "cells": [
  {
   "cell_type": "markdown",
   "metadata": {},
   "source": [
    "# News Chat Demo with Qwen2.5-7B-Instruct\n",
    "\n",
    "This notebook demonstrates the News Chat system using Qwen2.5-7B-Instruct model."
   ]
  },
  {
   "cell_type": "code",
   "execution_count": null,
   "metadata": {},
   "source": [
    "!git clone <your-repository-url>\n",
    "%cd multiagentic_rag-public\n",
    "from colab_setup import setup_environment\n",
    "setup_environment()"
   ]
  },
  {
   "cell_type": "code",
   "execution_count": null,
   "metadata": {},
   "source": [
    "import os\n",
    "from multirag.agents import NewsRetriever, ArticleRetriever\n",
    "from multirag.engine import ModelEngine\n",
    "from langchain_huggingface import HuggingFaceEmbeddings\n",
    "\n",
    "# Initialize components\n",
    "model_engine = ModelEngine()\n",
    "embeddings = HuggingFaceEmbeddings(model_name=\"sentence-transformers/all-MiniLM-L6-v2\")\n",
    "article_retriever = ArticleRetriever(llm_engine=model_engine, embeddings=embeddings)\n",
    "news_retriever = NewsRetriever(llm_engine=model_engine, article_retriever=article_retriever)"
   ]
  },
  {
   "cell_type": "code",
   "execution_count": null,
   "metadata": {},
   "source": [
    "# Test the news chat system\n",
    "query = \"What are the latest developments in AI?\"\n",
    "response = news_retriever.chat(query)\n",
    "print(response)"
   ]
  }
 ],
 "metadata": {
  "kernelspec": {
   "display_name": "Python 3",
   "language": "python",
   "name": "python3"
  },
  "language_info": {
   "codemirror_mode": {
    "name": "ipython",
    "version": 3
   },
   "file_extension": ".py",
   "mimetype": "text/x-python",
   "name": "python",
   "nbconvert_exporter": "python",
   "version": "3.8.8"
  }
 },
 "nbformat": 4,
 "nbformat_minor": 5
}
