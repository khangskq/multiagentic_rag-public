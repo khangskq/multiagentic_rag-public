{
 "cells": [
  {
   "cell_type": "code",
   "execution_count": null,
   "metadata": {
    "vscode": {
     "languageId": "plaintext"
    }
   },
   "outputs": [],
   "source": [
    "{\n",
    " \"cells\": [\n",
    "  {\n",
    "   \"cell_type\": \"markdown\",\n",
    "   \"metadata\": {},\n",
    "   \"source\": [\n",
    "    \"# News Chat Demo with Qwen2.5-7B-Instruct\\n\",\n",
    "    \"\\n\",\n",
    "    \"This notebook demonstrates the News Chat system using Qwen2.5-7B-Instruct model.\"\n",
    "   ]\n",
    "  },\n",
    "  {\n",
    "   \"cell_type\": \"code\",\n",
    "   \"execution_count\": null,\n",
    "   \"metadata\": {},\n",
    "   \"source\": [\n",
    "    \"!git clone <your-repository-url>\\n\",\n",
    "    \"%cd multiagentic_rag-public\\n\",\n",
    "    \"from colab_setup import setup_environment\\n\",\n",
    "    \"setup_environment()\"\n",
    "   ]\n",
    "  },\n",
    "  {\n",
    "   \"cell_type\": \"code\",\n",
    "   \"execution_count\": null,\n",
    "   \"metadata\": {},\n",
    "   \"source\": [\n",
    "    \"import os\\n\",\n",
    "    \"from multirag.agents import NewsRetriever, ArticleRetriever\\n\",\n",
    "    \"from multirag.engine import ModelEngine\\n\",\n",
    "    \"from langchain_huggingface import HuggingFaceEmbeddings\\n\",\n",
    "    \"\\n\",\n",
    "    \"# Initialize components\\n\",\n",
    "    \"model_engine = ModelEngine()\\n\",\n",
    "    \"embeddings = HuggingFaceEmbeddings(model_name=\\\"sentence-transformers/all-MiniLM-L6-v2\\\")\\n\",\n",
    "    \"article_retriever = ArticleRetriever(llm_engine=model_engine, embeddings=embeddings)\\n\",\n",
    "    \"news_retriever = NewsRetriever(llm_engine=model_engine, article_retriever=article_retriever)\"\n",
    "   ]\n",
    "  },\n",
    "  {\n",
    "   \"cell_type\": \"code\",\n",
    "   \"execution_count\": null,\n",
    "   \"metadata\": {},\n",
    "   \"source\": [\n",
    "    \"# Test the news chat system\\n\",\n",
    "    \"query = \\\"What are the latest developments in AI?\\\"\\n\",\n",
    "    \"response = news_retriever.chat(query)\\n\",\n",
    "    \"print(response)\"\n",
    "   ]\n",
    "  }\n",
    " ]\n",
    "}"
   ]
  }
 ],
 "metadata": {
  "language_info": {
   "name": "python"
  }
 },
 "nbformat": 4,
 "nbformat_minor": 2
}
